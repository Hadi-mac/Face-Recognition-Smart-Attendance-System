{
 "cells": [
  {
   "cell_type": "code",
   "execution_count": 1,
   "id": "835a776f",
   "metadata": {},
   "outputs": [],
   "source": [
    "import cv2\n",
    "from os import listdir\n",
    "from os.path import isfile, join\n",
    "from tkinter import *\n",
    "from tkinter import messagebox\n",
    "#from cv2 import *\n",
    "import face_recognition\n",
    "import os\n",
    "from datetime import datetime\n",
    "#import time\n",
    "#import pickle\n",
    "import pandas as pd\n",
    "import numpy as np"
   ]
  },
  {
   "cell_type": "code",
   "execution_count": null,
   "id": "c09724fb",
   "metadata": {
    "scrolled": false
   },
   "outputs": [
    {
     "name": "stdout",
     "output_type": "stream",
     "text": [
      "Empty DataFrame\n",
      "Columns: [NAME,          DATE,        TIME]\n",
      "Index: []\n",
      "              NAME          DATE        TIME\n",
      "0     HADI HUSSAIN    29/07/2022    11:32:42\n",
      "1        JOHN ELIA    29/07/2022    11:32:48\n",
      "2     SELENA GOMEZ    29/07/2022    11:33:40\n",
      "3       BILL GATES    29/07/2022    11:33:48\n",
      "4  MARK ZUKKERBURG    29/07/2022    11:33:57\n"
     ]
    }
   ],
   "source": [
    "window=Tk()\n",
    "window.title('Face Detection and Recognition Attendance System')\n",
    "window.geometry('850x700')\n",
    "window.config(background=\"#add8e6\")\n",
    "l1 = Label(window,font=(\"Algerian\",22))\n",
    "l1.grid(column=0, row = 1)\n",
    "l2 = Label(window,text=\" Face Detection And Recognition Smart Attendance System \",font=(\"Algerian\",22, 'bold'),fg = 'white', bg='blue' )\n",
    "l2.grid(column=4, row = 2)\n",
    "l3= Label(window,font=(\"Algerian\",22, 'bold'))\n",
    "l3.grid(column=0, row = 3)\n",
    "l4 = Label(window,font=(\"Algerian\",22))\n",
    "l4.grid(column=0, row = 4)\n",
    "l4_2 = Label(window,font=(\"Algerian\",22))\n",
    "l4_2.grid(column=0, row = 5)\n",
    "\n",
    "button1=Button(window, text='Save Picture', command = takePicture,font=(\"Helvetica\",22,'bold'), fg = 'black', bg='#ffbf50')\n",
    "button1.grid(column=4, row=6)\n",
    "l5 = Label(window,font=(\"Algerian\",22))\n",
    "l5.grid(column=0, row = 7)\n",
    "\n",
    "button2=Button(window, text='Train Dataset', command = encodes, font=(\"Helvetica\",22,'bold'), fg = 'black', bg='#ffbf50')\n",
    "button2.grid(column=4, row=8)\n",
    "l6 = Label(window,font=(\"Algerian\",22))\n",
    "l6.grid(column=0, row = 9)\n",
    "\n",
    "button3=Button(window, text='Mark Attendance', command = webcam, font=(\"Helvetica\",22,'bold'), fg = 'black', bg='#ffbf50')\n",
    "button3.grid(column=4, row=12)\n",
    "l7 = Label(window,font=(\"Algerian\",22))\n",
    "l7.grid(column=0, row = 13)\n",
    "\n",
    "button4=Button(window, text='Show Attendance', command = showAttendance,font=(\"Helvetica\",22,'bold'), fg = 'black', bg='#ffbf50')\n",
    "button4.grid(column=4, row=15)\n",
    "\n",
    "\n",
    "window.mainloop()"
   ]
  },
  {
   "cell_type": "code",
   "execution_count": 3,
   "id": "f3454d2d",
   "metadata": {},
   "outputs": [],
   "source": [
    "def takePicture():\n",
    "    name = input('Enter Name: ')\n",
    "    rollno = input('Enter Roll Number: ')\n",
    "    cap = cv2.VideoCapture(0)\n",
    "    count = 0\n",
    "    while True:\n",
    "        ret,frame = cap.read()\n",
    "        count += 1\n",
    "        face = cv2.resize(frame,(200,200))\n",
    "        #face = cv2.cvtColor(face,cv2.COLOR_BGR2GRAY)\n",
    "        cv2.imshow('frame', face)\n",
    "        \n",
    "        if cv2.waitKey(10)==32: #extra\n",
    "            file_name_path = f'photo stock/{name} {rollno}'+ '.jpg'\n",
    "            cv2.imwrite(file_name_path,face)\n",
    "             \n",
    "            cv2.putText(frame,str(count),(100,120),cv2.FONT_HERSHEY_COMPLEX,1,(0,255,0),3)\n",
    "            cv2.imshow('face Cropper', frame)\n",
    "         \n",
    "            #if cv2.waitKey(10)==13 or count==1:\n",
    "            break\n",
    "\n",
    "    cap.release()\n",
    "    cv2.destroyAllWindows()\n",
    "    print('Picture Taken Successfully...')"
   ]
  },
  {
   "cell_type": "code",
   "execution_count": null,
   "id": "9f5111f4",
   "metadata": {},
   "outputs": [],
   "source": [
    "takePicture()"
   ]
  },
  {
   "cell_type": "code",
   "execution_count": 4,
   "id": "799e10be",
   "metadata": {},
   "outputs": [
    {
     "name": "stderr",
     "output_type": "stream",
     "text": [
      "C:\\Users\\Hadi Toori\\AppData\\Local\\Temp\\ipykernel_14240\\1299173649.py:10: VisibleDeprecationWarning: Creating an ndarray from ragged nested sequences (which is a list-or-tuple of lists-or-tuples-or ndarrays with different lengths or shapes) is deprecated. If you meant to do this, you must specify 'dtype=object' when creating the ndarray.\n",
      "  images = np.array(images)\n"
     ]
    },
    {
     "name": "stdout",
     "output_type": "stream",
     "text": [
      "Done...\n"
     ]
    }
   ],
   "source": [
    "path = 'C:\\\\Users\\\\Hadi Toori\\\\Desktop\\\\Final Year Project\\\\photo stock'\n",
    "images = []\n",
    "classNames = []\n",
    "mylist = os.listdir(path)\n",
    "for cl in mylist:\n",
    "    curImg = cv2.imread(f'{path}/{cl}')\n",
    "    images.append(curImg)\n",
    "    classNames.append(os.path.splitext(cl)[0])\n",
    "    \n",
    "images = np.array(images)\n",
    "#images.shape\n",
    "\n",
    "def markAttendance(name):\n",
    "    with open('Attendance.csv','r+') as f:\n",
    "        myDataList = f.readlines()\n",
    "        nameList = []\n",
    "        rollnoList = []\n",
    "        for line in myDataList:\n",
    "            entry = line.split(',')\n",
    "            nameList.append(entry[0])\n",
    "        if name not in nameList:\n",
    "            now = datetime.now()\n",
    "            date = now.strftime('%d/%m/%Y')\n",
    "            time = now.strftime('%H:%M:%S')\n",
    "            f.writelines(f'\\n{name}, {date}, {time}')\n",
    "def showAttendance():\n",
    "    attendance = pd.read_csv(r'C:\\Users\\Hadi Toori\\Desktop\\Final Year Project\\Attendance.csv')\n",
    "    print(attendance)\n",
    "    return pd.DataFrame(attendance)\n",
    "\n",
    "def encodes():\n",
    "    print('Encoding in process...')\n",
    "    findEncodings(images)\n",
    "    print('Encoding completed successfully!')\n",
    "def findEncodings(images):\n",
    "    encodeList = []\n",
    "    for img in images:\n",
    "        img = cv2.cvtColor(img, cv2.COLOR_BGR2RGB)\n",
    "        encoded_face = face_recognition.face_encodings(img)[0]\n",
    "        encodeList.append(encoded_face)\n",
    "    return encodeList\n",
    "encoded_face_train = findEncodings(images)\n",
    "print('Done...')"
   ]
  },
  {
   "cell_type": "code",
   "execution_count": 5,
   "id": "06a5c028",
   "metadata": {},
   "outputs": [],
   "source": [
    "# take pictures from webcam \n",
    "def webcam():\n",
    "    cap  = cv2.VideoCapture(0)\n",
    "    while True:\n",
    "        success, img = cap.read()\n",
    "        imgS = cv2.resize(img, (0,0), None, 0.25,0.25)\n",
    "        imgS = cv2.cvtColor(imgS, cv2.COLOR_BGR2RGB)\n",
    "        faces_in_frame = face_recognition.face_locations(imgS)\n",
    "        encoded_faces = face_recognition.face_encodings(imgS, faces_in_frame)\n",
    "        for encode_face, faceloc in zip(encoded_faces,faces_in_frame):\n",
    "            matches = face_recognition.compare_faces(encoded_face_train, encode_face)\n",
    "            faceDist = face_recognition.face_distance(encoded_face_train, encode_face)\n",
    "            \n",
    "            matchIndex = np.argmin(faceDist)\n",
    "            #print(matchIndex)\n",
    "            if matches[matchIndex]:\n",
    "                name = classNames[matchIndex].upper() #.lower()\n",
    "                y1,x2,y2,x1 = faceloc\n",
    "                # since we scaled down by 4 times in line 6\n",
    "                y1, x2,y2,x1 = y1*4,x2*4,y2*4,x1*4\n",
    "                cv2.rectangle(img,(x1,y1),(x2,y2),(0,255,0),2)\n",
    "                cv2.rectangle(img, (x1,y2-35),(x2,y2), (0,255,0), cv2.FILLED)\n",
    "                cv2.putText(img,name, (x1+6,y2-5), cv2.FONT_HERSHEY_COMPLEX,1,(255,255,255),2)\n",
    "                cv2.putText(img, f'{round(faceDist[0],2)}', (50,50), cv2.FONT_HERSHEY_COMPLEX,1,(255,255,255),2)\n",
    "                #print(f'{matches}{round(faceDist[0],2)}')\n",
    "                markAttendance(name)\n",
    "            \n",
    "        \n",
    "        cv2.imshow('webcam', img)\n",
    "        if cv2.waitKey(10)==13:\n",
    "            break\n",
    "    cap.release()\n",
    "    cv2.destroyAllWindows()"
   ]
  },
  {
   "cell_type": "code",
   "execution_count": null,
   "id": "e2250b73",
   "metadata": {},
   "outputs": [],
   "source": [
    "webcam()"
   ]
  },
  {
   "cell_type": "code",
   "execution_count": null,
   "id": "95e6a212",
   "metadata": {},
   "outputs": [],
   "source": [
    "Attendance = pd.read_csv(r'C:\\Users\\Hadi Toori\\Desktop\\Final Year Project\\Attendance.csv')\n",
    "print(pd.DataFrame(Attendance))\n",
    "    "
   ]
  }
 ],
 "metadata": {
  "kernelspec": {
   "display_name": "Python 3 (ipykernel)",
   "language": "python",
   "name": "python3"
  },
  "language_info": {
   "codemirror_mode": {
    "name": "ipython",
    "version": 3
   },
   "file_extension": ".py",
   "mimetype": "text/x-python",
   "name": "python",
   "nbconvert_exporter": "python",
   "pygments_lexer": "ipython3",
   "version": "3.10.4"
  }
 },
 "nbformat": 4,
 "nbformat_minor": 5
}
